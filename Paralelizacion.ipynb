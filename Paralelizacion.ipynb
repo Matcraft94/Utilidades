{
 "cells": [
  {
   "cell_type": "markdown",
   "metadata": {},
   "source": [
    "# Paralelizacion\n",
    "\n",
    "### Tipos de Paralelilzacion\n",
    "Hay diversos tipos de paralelizacion, revisaremos un par y mostraremos su eficiencia.\n",
    "\n",
    "- *Multiprocesamiento*: es la ejecución simultánea de múltiples procesos utilizando más de un procesador. En este contexto, un proceso es una cadena de instrucciones (es decir, un programa). El multiprocesamiento se puede llevar a cabo en una máquina con múltiples CPU. Con el multiprocesamiento, cada proceso tiene su propio espacio de memoria, aunque el chip de memoria física puede compartirse.\n",
    "\n",
    "- *Subprocesos multiples*: son similares al multiprocesamiento, excepto que, durante la ejecución, todos los subprocesos comparten el mismo espacio de memoria. Python tiene dificultades para implementar subprocesos múltiples debido a algunas características de diseño heredadas. Pero esto no es una restricción para bibliotecas científicas como NumPy y Numba. Las funciones importadas de estas bibliotecas y el código compilado JIT se ejecutan en entornos de ejecución de bajo nivel donde no se aplican las restricciones heredadas de Python.\n",
    "\n",
    "\n",
    "### Ventajas y desventajas\n",
    "\n",
    "Los subprocesos múltiples son más livianos porque la mayoría de los recursos del sistema y de la memoria son compartidos por los subprocesos. Además, el hecho de que varios subprocesos accedan a un grupo de memoria compartido es extremadamente conveniente para la programación numérica.Por otro lado, el multiprocesamiento es más flexible y se puede distribuir entre clústeres."
   ]
  },
  {
   "cell_type": "code",
   "execution_count": 1,
   "metadata": {},
   "outputs": [],
   "source": [
    "import numpy as np\n",
    "import quantecon as qe\n",
    "import matplotlib.pyplot as plt\n",
    "\n",
    "%matplotlib inline"
   ]
  },
  {
   "cell_type": "markdown",
   "metadata": {},
   "source": [
    "## Subprocesos multiples implicitos en Numpy\n",
    "\n",
    "La libreria NumPy utiliza subprocesos multiples en su codificacion."
   ]
  },
  {
   "cell_type": "code",
   "execution_count": 2,
   "metadata": {},
   "outputs": [],
   "source": [
    "# creacmos aleatoriamente matrices y buscamos sus valores propios\n",
    "n = 20\n",
    "m = 1000\n",
    "for i in range(n):\n",
    "    X = np.random.randn(m, m)\n",
    "    λ = np.linalg.eigvals(X)"
   ]
  },
  {
   "cell_type": "markdown",
   "metadata": {},
   "source": [
    "En los ultimos anos NumPy a logrado llevar este multiprocesamiento a mas de sus funciones, por ejemplo:"
   ]
  },
  {
   "cell_type": "code",
   "execution_count": 3,
   "metadata": {},
   "outputs": [],
   "source": [
    "def f(x, y):\n",
    "    return np.cos(x**2 + y**2) / (1 + x**2 + y**2)"
   ]
  },
  {
   "cell_type": "code",
   "execution_count": 4,
   "metadata": {},
   "outputs": [],
   "source": [
    "grid = np.linspace(-3, 3, 5000)\n",
    "x, y = np.meshgrid(grid, grid)"
   ]
  },
  {
   "cell_type": "code",
   "execution_count": 5,
   "metadata": {},
   "outputs": [
    {
     "name": "stdout",
     "output_type": "stream",
     "text": [
      "538 ms ± 42.6 ms per loop (mean ± std. dev. of 7 runs, 1 loop each)\n"
     ]
    }
   ],
   "source": [
    "%timeit np.max(f(x, y))"
   ]
  },
  {
   "cell_type": "markdown",
   "metadata": {},
   "source": [
    "## Comparemos con Numba"
   ]
  },
  {
   "cell_type": "code",
   "execution_count": 6,
   "metadata": {},
   "outputs": [],
   "source": [
    "from numba import vectorize"
   ]
  },
  {
   "cell_type": "code",
   "execution_count": 7,
   "metadata": {},
   "outputs": [],
   "source": [
    "# Vectoricemos la funcion\n",
    "@vectorize\n",
    "def f_vec(x, y):\n",
    "    return np.cos(x**2 + y**2) / (1 + x**2 + y**2)"
   ]
  },
  {
   "cell_type": "code",
   "execution_count": 8,
   "metadata": {},
   "outputs": [
    {
     "data": {
      "text/plain": [
       "0.9999992797121728"
      ]
     },
     "execution_count": 8,
     "metadata": {},
     "output_type": "execute_result"
    }
   ],
   "source": [
    "np.max(f_vec(x, y))  # corremos para compilar"
   ]
  },
  {
   "cell_type": "code",
   "execution_count": 9,
   "metadata": {},
   "outputs": [
    {
     "name": "stdout",
     "output_type": "stream",
     "text": [
      "286 ms ± 10.3 ms per loop (mean ± std. dev. of 7 runs, 1 loop each)\n"
     ]
    }
   ],
   "source": [
    "%timeit np.max(f_vec(x, y))"
   ]
  },
  {
   "cell_type": "markdown",
   "metadata": {},
   "source": [
    "### Subproceos multiples una Ufunc Numba\n",
    "\n",
    "Podemos tener la eficiencia de la función compilada JIT altamente especializada de Numba y las ganancias de velocidad de la paralelización obtenidas por el subprocesamiento múltiple implícito de NumPy?\n",
    "\n",
    "Resulta que podemos, agregando algún tipo de información más ``target = parallel``."
   ]
  },
  {
   "cell_type": "code",
   "execution_count": 10,
   "metadata": {},
   "outputs": [
    {
     "data": {
      "text/plain": [
       "0.9999992797121728"
      ]
     },
     "execution_count": 10,
     "metadata": {},
     "output_type": "execute_result"
    }
   ],
   "source": [
    "@vectorize('float64(float64, float64)', target='parallel')\n",
    "def f_vec(x, y):\n",
    "    return np.cos(x**2 + y**2) / (1 + x**2 + y**2)\n",
    "\n",
    "np.max(f_vec(x, y))  # Correr una vez para compilar"
   ]
  },
  {
   "cell_type": "code",
   "execution_count": 11,
   "metadata": {},
   "outputs": [
    {
     "name": "stdout",
     "output_type": "stream",
     "text": [
      "111 ms ± 4.14 ms per loop (mean ± std. dev. of 7 runs, 10 loops each)\n"
     ]
    }
   ],
   "source": [
    "%timeit np.max(f_vec(x, y))"
   ]
  },
  {
   "cell_type": "markdown",
   "metadata": {},
   "source": [
    "### Lazos de subprocesos multiples en Numba\n",
    "\n",
    "Acabamos de ver un enfoque de paralelización en Numba, usando el indicador paralelo en `@vectorize`. Esto es bueno, pero resulta que no se adapta bien a muchos de los problemas. Afortunadamente, Numba proporciona otro enfoque para subprocesos múltiples que funcionará para nosotros en casi todos los lugares donde la paralelización es posible. Veamos primero un código simple, de un solo subproceso.\n",
    "\n",
    "El codigo calculara $w_t$ por medio de\n",
    "$$w_{t+1}=R_{t+1}sw_t+y_{t+1}.$$\n"
   ]
  },
  {
   "cell_type": "code",
   "execution_count": 12,
   "metadata": {},
   "outputs": [],
   "source": [
    "from numpy.random import randn\n",
    "from numba import njit"
   ]
  },
  {
   "cell_type": "code",
   "execution_count": 13,
   "metadata": {},
   "outputs": [],
   "source": [
    "@njit\n",
    "def h(w, r=0.1, s=0.3, v1=0.1, v2=1.0):\n",
    "    \n",
    "    R = np.exp(v1 * randn()) * (1 + r)\n",
    "    y = np.exp(v2 * randn())\n",
    "\n",
    "    w = R * s * w + y\n",
    "    return w"
   ]
  },
  {
   "cell_type": "code",
   "execution_count": 14,
   "metadata": {},
   "outputs": [
    {
     "data": {
      "image/png": "[encoded data removed]",
      "text/plain": [
       "<Figure size 432x288 with 1 Axes>"
      ]
     },
     "metadata": {
      "needs_background": "light"
     },
     "output_type": "display_data"
    }
   ],
   "source": [
    "fig, ax = plt.subplots()\n",
    "\n",
    "T = 100\n",
    "w = np.empty(T)\n",
    "w[0] = 5\n",
    "for t in range(T-1):\n",
    "    w[t+1] = h(w[t])\n",
    "\n",
    "ax.plot(w)\n",
    "ax.set_xlabel('$t$', fontsize=12)\n",
    "ax.set_ylabel('$w_{t}$', fontsize=12)\n",
    "plt.show()"
   ]
  }
 ],
 "metadata": {
  "kernelspec": {
   "display_name": "Python 3.8.10 64-bit",
   "language": "python",
   "name": "python3"
  },
  "language_info": {
   "codemirror_mode": {
    "name": "ipython",
    "version": 3
   },
   "file_extension": ".py",
   "mimetype": "text/x-python",
   "name": "python",
   "nbconvert_exporter": "python",
   "pygments_lexer": "ipython3",
   "version": "3.8.10"
  },
  "orig_nbformat": 4,
  "vscode": {
   "interpreter": {
    "hash": "916dbcbb3f70747c44a77c7bcd40155683ae19c65e1c03b4aa3499c5328201f1"
   }
  }
 },
 "nbformat": 4,
 "nbformat_minor": 2
}
